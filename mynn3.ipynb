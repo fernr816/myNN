{
 "cells": [
  {
   "cell_type": "code",
   "execution_count": 173,
   "metadata": {
    "collapsed": true
   },
   "outputs": [],
   "source": [
    "%matplotlib inline\n",
    "import matplotlib.pyplot as plt\n",
    "\n",
    "import numpy as np\n",
    "\n",
    "from sklearn import datasets\n",
    "from sklearn import model_selection\n",
    "\n",
    "import sys\n",
    "\n",
    "#load mnist datasets\n",
    "mnist = datasets.fetch_mldata(\"MNIST original\", data_home=\".\")"
   ]
  },
  {
   "cell_type": "code",
   "execution_count": 210,
   "metadata": {},
   "outputs": [],
   "source": [
    "#input data & label preprocessing\n",
    "X_train, X_test, y_train, y_test = \\\n",
    "    model_selection.train_test_split(mnist.data, mnist.target, test_size = 1/7)\n",
    "\n",
    "X_train = X_train / 255.\n",
    "X_test = X_test/ 255.\n",
    "\n",
    "#add bias\n",
    "b_train = np.ones((len(X_train), 1))\n",
    "b_test = np.ones((len(X_test), 1))\n",
    "X_train = np.append(X_train, b_train, axis = 1)\n",
    "X_test = np.append(X_test, b_test, axis = 1)\n",
    "\n",
    "#convert to one-hot label\n",
    "Y_train = [[0 if i != y_train[j] else 1 for i in range(10)] for j in range(len(y_train))]\n",
    "Y_test = [[0 if i != y_test[j] else 1 for i in range(10)] for j in range(len(y_test))]\n",
    "Y_train = np.array(Y_train)\n",
    "Y_test = np.array(Y_test)"
   ]
  },
  {
   "cell_type": "code",
   "execution_count": 265,
   "metadata": {},
   "outputs": [],
   "source": [
    "#weight init (-1 ~ 1)\n",
    "weight = (1.0 - (-1.0)) * np.random.rand(3, 28*28+1, 28*28+1) -1\n",
    "\n",
    "#define learning rate\n",
    "lr = 0.001\n",
    "\n",
    "#define mu for momentum\n",
    "mu = 0.8\n",
    "\n",
    "#define alpha, g for RMSProp\n",
    "alpha = 0.9\n",
    "g = np.zeros((3, 28*28+1, 28*28+1))\n",
    "\n",
    "#define epoch\n",
    "epoch = 20\n",
    "\n",
    "#define batch size\n",
    "batch_size = 200"
   ]
  },
  {
   "cell_type": "code",
   "execution_count": 107,
   "metadata": {},
   "outputs": [],
   "source": [
    "#fully connected layer\n",
    "def myFCLayer(output_unit, input_data, layer_no):\n",
    "    w = weight[layer_no, 0:output_unit, 0:len(input_data)]\n",
    "    z = np.dot(w, input_data)\n",
    "\n",
    "    return z"
   ]
  },
  {
   "cell_type": "code",
   "execution_count": 97,
   "metadata": {},
   "outputs": [],
   "source": [
    "#activation\n",
    "def myActivation(z, activation):\n",
    "    if activation == \"ReLU\":\n",
    "        y = myReLU(z)\n",
    "        \n",
    "    elif activation == \"softmax\":\n",
    "        y = mySoftmax(len(z), z)\n",
    "        \n",
    "    return y"
   ]
  },
  {
   "cell_type": "code",
   "execution_count": 232,
   "metadata": {},
   "outputs": [],
   "source": [
    "#activation function - ReLU\n",
    "def myReLU(z):\n",
    "    y = np.where(z > 0, z, 0)\n",
    "    \n",
    "    return y\n",
    "\n",
    "#activation function - softmax function\n",
    "\"\"\"def mySoftmax(unit_no, input_data):\n",
    "    e = np.e\n",
    "    y = []\n",
    "    for i in range(unit_no):\n",
    "        s = 0\n",
    "        for j in range(unit_no):\n",
    "            s += e ** (input_data[j] - max(input_data))\n",
    "        y.append((e ** (input_data[i] - max(input_data))) / s)\n",
    "\n",
    "    return y\"\"\"\n",
    "def mySoftmax(unit_no, input_data):\n",
    "    c = np.max(input_data)\n",
    "    exp_a = np.exp(input_data - c)\n",
    "    sum = np.sum(exp_a)\n",
    "    y = exp_a / sum\n",
    "    \n",
    "    return y"
   ]
  },
  {
   "cell_type": "code",
   "execution_count": 262,
   "metadata": {},
   "outputs": [],
   "source": [
    "#drop out layer\n",
    "def myDropOut(input_data, late):\n",
    "    index = np.random.randint(0, int(len(input_data) * late))\n",
    "    domask = np.ones(len(input_data))\n",
    "    domask[index] = 0\n",
    "    \n",
    "    return domask\n"
   ]
  },
  {
   "cell_type": "code",
   "execution_count": 77,
   "metadata": {},
   "outputs": [],
   "source": [
    "#calculate accuracy\n",
    "def myCalcAcc(est, label_data):\n",
    "    est = np.array(est)\n",
    "    label_data = np.array(label_data)\n",
    "    \n",
    "    a = np.argmax(est, axis=1) - np.argmax(label_data, axis=1)\n",
    "    acc = np.sum(a == 0)\n",
    "    acc = acc / label_data.shape[0]\n",
    "    \n",
    "    return acc"
   ]
  },
  {
   "cell_type": "code",
   "execution_count": 240,
   "metadata": {},
   "outputs": [],
   "source": [
    "#loss function - Cross Entropy\n",
    "def myCrossEntropy(est, t):\n",
    "    E = 0\n",
    "    for i in range(len(t)):\n",
    "        Ei = 0\n",
    "        for j in range(len(t[0])):\n",
    "            Ei -= t[i][j] * np.log(est[i][j] + 1e-8)\n",
    "        E += Ei\n",
    "    \n",
    "    return E"
   ]
  },
  {
   "cell_type": "code",
   "execution_count": 129,
   "metadata": {},
   "outputs": [],
   "source": [
    "#calculate δ for CrossEntropy + SoftMax\n",
    "def myCalcDeltaOut(est, label_data):\n",
    "    d = est - label_data\n",
    "    \n",
    "    return d\n",
    "\n",
    "def myCalcDelta(delta, step, z):\n",
    "    z = np.array(z)\n",
    "    \n",
    "    wd = np.dot(delta, weight[-step, 0:len(delta[0]), 0:len(z[0])])\n",
    "    fz = np.where(z > 0, 1, 0)\n",
    "    d = wd * fz\n",
    "    \n",
    "    return d"
   ]
  },
  {
   "cell_type": "code",
   "execution_count": 153,
   "metadata": {},
   "outputs": [],
   "source": [
    "def myCalcDE(delta, x):\n",
    "    DE = np.empty((0, len(x[0])))\n",
    "    for i in range(len(delta[0])):\n",
    "        nw = np.array([np.dot(delta[:,i], x)])\n",
    "        DE = np.append(DE, nw, axis=0)\n",
    "\n",
    "    return DE"
   ]
  },
  {
   "cell_type": "code",
   "execution_count": 169,
   "metadata": {},
   "outputs": [],
   "source": [
    "#RMSprop\n",
    "def myWeightUpdate_RMSProp(DE, layer_no):\n",
    "    for i in range(len(DE)):\n",
    "        g_t = g[layer_no - 1, 0:len(DE), 0:len(DE[0])]\n",
    "        w = weight[layer_no - 1, 0:len(DE), 0:len(DE[0])]\n",
    "        \n",
    "        g_t[i] = (alpha * g_t[i]) + (1 - alpha) * (DE[i] ** 2)\n",
    "        w[i] -= (lr / (np.sqrt(g_t[i]) + 1e-8)) * DE[i]\n",
    "        \n",
    "        g[layer_no -1, 0:len(DE), 0:len(DE[0])] = g_t\n",
    "        weight[layer_no - 1, 0:len(DE), 0:len(DE[0])] = w"
   ]
  },
  {
   "cell_type": "code",
   "execution_count": 67,
   "metadata": {},
   "outputs": [],
   "source": [
    "#Get Mini Batch\n",
    "def myGetBatch(X, Y, size):\n",
    "    Y = np.array(Y)\n",
    "    rnd_index = np.arange(X.shape[0])\n",
    "    np.random.shuffle(rnd_index)\n",
    "    X_shuf = X[rnd_index, :]\n",
    "    Y_shuf = Y[rnd_index, :]\n",
    "    \n",
    "    for i in range(0, X.shape[0], size):\n",
    "        X_batch = X_shuf[i : i + size]\n",
    "        Y_batch = Y_shuf[i : i + size]\n",
    "        \n",
    "        yield X_batch, Y_batch"
   ]
  },
  {
   "cell_type": "code",
   "execution_count": 269,
   "metadata": {},
   "outputs": [
    {
     "name": "stdout",
     "output_type": "stream",
     "text": [
      "\r200/60000"
     ]
    },
    {
     "name": "stdout",
     "output_type": "stream",
     "text": [
      "\r400/60000"
     ]
    },
    {
     "name": "stdout",
     "output_type": "stream",
     "text": [
      "\r600/60000"
     ]
    },
    {
     "name": "stdout",
     "output_type": "stream",
     "text": [
      "\r800/60000"
     ]
    },
    {
     "name": "stdout",
     "output_type": "stream",
     "text": [
      "\r1000/60000"
     ]
    },
    {
     "name": "stdout",
     "output_type": "stream",
     "text": [
      "\r1200/60000"
     ]
    },
    {
     "name": "stdout",
     "output_type": "stream",
     "text": [
      "\r1400/60000"
     ]
    },
    {
     "name": "stdout",
     "output_type": "stream",
     "text": [
      "\r1600/60000"
     ]
    },
    {
     "name": "stdout",
     "output_type": "stream",
     "text": [
      "\r1800/60000"
     ]
    },
    {
     "name": "stdout",
     "output_type": "stream",
     "text": [
      "\r2000/60000"
     ]
    },
    {
     "name": "stdout",
     "output_type": "stream",
     "text": [
      "\r2200/60000"
     ]
    },
    {
     "name": "stdout",
     "output_type": "stream",
     "text": [
      "\r2400/60000"
     ]
    },
    {
     "name": "stdout",
     "output_type": "stream",
     "text": [
      "\r2600/60000"
     ]
    },
    {
     "name": "stdout",
     "output_type": "stream",
     "text": [
      "\r2800/60000"
     ]
    },
    {
     "name": "stdout",
     "output_type": "stream",
     "text": [
      "\r3000/60000"
     ]
    },
    {
     "name": "stdout",
     "output_type": "stream",
     "text": [
      "\r3200/60000"
     ]
    },
    {
     "name": "stdout",
     "output_type": "stream",
     "text": [
      "\r3400/60000"
     ]
    },
    {
     "name": "stdout",
     "output_type": "stream",
     "text": [
      "\r3600/60000"
     ]
    },
    {
     "name": "stdout",
     "output_type": "stream",
     "text": [
      "\r3800/60000"
     ]
    },
    {
     "name": "stdout",
     "output_type": "stream",
     "text": [
      "\r4000/60000"
     ]
    },
    {
     "name": "stdout",
     "output_type": "stream",
     "text": [
      "\r4200/60000"
     ]
    },
    {
     "name": "stdout",
     "output_type": "stream",
     "text": [
      "\r4400/60000"
     ]
    },
    {
     "name": "stdout",
     "output_type": "stream",
     "text": [
      "\r4600/60000"
     ]
    },
    {
     "name": "stdout",
     "output_type": "stream",
     "text": [
      "\r4800/60000"
     ]
    },
    {
     "name": "stdout",
     "output_type": "stream",
     "text": [
      "\r5000/60000"
     ]
    },
    {
     "name": "stdout",
     "output_type": "stream",
     "text": [
      "\r5200/60000"
     ]
    },
    {
     "name": "stdout",
     "output_type": "stream",
     "text": [
      "\r5400/60000"
     ]
    },
    {
     "name": "stdout",
     "output_type": "stream",
     "text": [
      "\r5600/60000"
     ]
    },
    {
     "name": "stdout",
     "output_type": "stream",
     "text": [
      "\r5800/60000"
     ]
    },
    {
     "name": "stdout",
     "output_type": "stream",
     "text": [
      "\r6000/60000"
     ]
    },
    {
     "name": "stdout",
     "output_type": "stream",
     "text": [
      "\r6200/60000"
     ]
    },
    {
     "name": "stdout",
     "output_type": "stream",
     "text": [
      "\r6400/60000"
     ]
    },
    {
     "name": "stdout",
     "output_type": "stream",
     "text": [
      "\r6600/60000"
     ]
    },
    {
     "name": "stdout",
     "output_type": "stream",
     "text": [
      "\r6800/60000"
     ]
    },
    {
     "name": "stdout",
     "output_type": "stream",
     "text": [
      "\r7000/60000"
     ]
    },
    {
     "name": "stdout",
     "output_type": "stream",
     "text": [
      "\r7200/60000"
     ]
    },
    {
     "name": "stdout",
     "output_type": "stream",
     "text": [
      "\r7400/60000"
     ]
    },
    {
     "name": "stdout",
     "output_type": "stream",
     "text": [
      "\r7600/60000"
     ]
    },
    {
     "name": "stdout",
     "output_type": "stream",
     "text": [
      "\r7800/60000"
     ]
    },
    {
     "name": "stdout",
     "output_type": "stream",
     "text": [
      "\r8000/60000"
     ]
    },
    {
     "name": "stdout",
     "output_type": "stream",
     "text": [
      "\r8200/60000"
     ]
    },
    {
     "name": "stdout",
     "output_type": "stream",
     "text": [
      "\r8400/60000"
     ]
    },
    {
     "name": "stdout",
     "output_type": "stream",
     "text": [
      "\r8600/60000"
     ]
    },
    {
     "name": "stdout",
     "output_type": "stream",
     "text": [
      "\r8800/60000"
     ]
    },
    {
     "name": "stdout",
     "output_type": "stream",
     "text": [
      "\r9000/60000"
     ]
    },
    {
     "name": "stdout",
     "output_type": "stream",
     "text": [
      "\r9200/60000"
     ]
    },
    {
     "name": "stdout",
     "output_type": "stream",
     "text": [
      "\r9400/60000"
     ]
    },
    {
     "name": "stdout",
     "output_type": "stream",
     "text": [
      "\r9600/60000"
     ]
    },
    {
     "name": "stdout",
     "output_type": "stream",
     "text": [
      "\r9800/60000"
     ]
    },
    {
     "name": "stdout",
     "output_type": "stream",
     "text": [
      "\r10000/60000"
     ]
    },
    {
     "name": "stdout",
     "output_type": "stream",
     "text": [
      "\r10200/60000"
     ]
    },
    {
     "name": "stdout",
     "output_type": "stream",
     "text": [
      "\r10400/60000"
     ]
    },
    {
     "name": "stdout",
     "output_type": "stream",
     "text": [
      "\r10600/60000"
     ]
    },
    {
     "name": "stdout",
     "output_type": "stream",
     "text": [
      "\r10800/60000"
     ]
    },
    {
     "name": "stdout",
     "output_type": "stream",
     "text": [
      "\r11000/60000"
     ]
    },
    {
     "name": "stdout",
     "output_type": "stream",
     "text": [
      "\r11200/60000"
     ]
    },
    {
     "name": "stdout",
     "output_type": "stream",
     "text": [
      "\r11400/60000"
     ]
    },
    {
     "name": "stdout",
     "output_type": "stream",
     "text": [
      "\r11600/60000"
     ]
    },
    {
     "name": "stdout",
     "output_type": "stream",
     "text": [
      "\r11800/60000"
     ]
    },
    {
     "name": "stdout",
     "output_type": "stream",
     "text": [
      "\r12000/60000"
     ]
    },
    {
     "name": "stdout",
     "output_type": "stream",
     "text": [
      "\r12200/60000"
     ]
    },
    {
     "name": "stdout",
     "output_type": "stream",
     "text": [
      "\r12400/60000"
     ]
    },
    {
     "name": "stdout",
     "output_type": "stream",
     "text": [
      "\r12600/60000"
     ]
    },
    {
     "name": "stdout",
     "output_type": "stream",
     "text": [
      "\r12800/60000"
     ]
    },
    {
     "name": "stdout",
     "output_type": "stream",
     "text": [
      "\r13000/60000"
     ]
    },
    {
     "name": "stdout",
     "output_type": "stream",
     "text": [
      "\r13200/60000"
     ]
    },
    {
     "name": "stdout",
     "output_type": "stream",
     "text": [
      "\r13400/60000"
     ]
    },
    {
     "name": "stdout",
     "output_type": "stream",
     "text": [
      "\r13600/60000"
     ]
    },
    {
     "name": "stdout",
     "output_type": "stream",
     "text": [
      "\r13800/60000"
     ]
    },
    {
     "name": "stdout",
     "output_type": "stream",
     "text": [
      "\r14000/60000"
     ]
    },
    {
     "name": "stdout",
     "output_type": "stream",
     "text": [
      "\r14200/60000"
     ]
    },
    {
     "name": "stdout",
     "output_type": "stream",
     "text": [
      "\r14400/60000"
     ]
    },
    {
     "name": "stdout",
     "output_type": "stream",
     "text": [
      "\r14600/60000"
     ]
    },
    {
     "name": "stdout",
     "output_type": "stream",
     "text": [
      "\r14800/60000"
     ]
    },
    {
     "name": "stdout",
     "output_type": "stream",
     "text": [
      "\r15000/60000"
     ]
    },
    {
     "name": "stdout",
     "output_type": "stream",
     "text": [
      "\r15200/60000"
     ]
    },
    {
     "name": "stdout",
     "output_type": "stream",
     "text": [
      "\r15400/60000"
     ]
    },
    {
     "name": "stdout",
     "output_type": "stream",
     "text": [
      "\r15600/60000"
     ]
    },
    {
     "name": "stdout",
     "output_type": "stream",
     "text": [
      "\r15800/60000"
     ]
    },
    {
     "name": "stdout",
     "output_type": "stream",
     "text": [
      "\r16000/60000"
     ]
    },
    {
     "name": "stdout",
     "output_type": "stream",
     "text": [
      "\r16200/60000"
     ]
    },
    {
     "name": "stdout",
     "output_type": "stream",
     "text": [
      "\r16400/60000"
     ]
    },
    {
     "name": "stdout",
     "output_type": "stream",
     "text": [
      "\r16600/60000"
     ]
    },
    {
     "name": "stdout",
     "output_type": "stream",
     "text": [
      "\r16800/60000"
     ]
    },
    {
     "name": "stdout",
     "output_type": "stream",
     "text": [
      "\r17000/60000"
     ]
    },
    {
     "name": "stdout",
     "output_type": "stream",
     "text": [
      "\r17200/60000"
     ]
    },
    {
     "name": "stdout",
     "output_type": "stream",
     "text": [
      "\r17400/60000"
     ]
    },
    {
     "name": "stdout",
     "output_type": "stream",
     "text": [
      "\r17600/60000"
     ]
    },
    {
     "name": "stdout",
     "output_type": "stream",
     "text": [
      "\r17800/60000"
     ]
    },
    {
     "name": "stdout",
     "output_type": "stream",
     "text": [
      "\r18000/60000"
     ]
    },
    {
     "name": "stdout",
     "output_type": "stream",
     "text": [
      "\r18200/60000"
     ]
    },
    {
     "name": "stdout",
     "output_type": "stream",
     "text": [
      "\r18400/60000"
     ]
    },
    {
     "name": "stdout",
     "output_type": "stream",
     "text": [
      "\r18600/60000"
     ]
    },
    {
     "name": "stdout",
     "output_type": "stream",
     "text": [
      "\r18800/60000"
     ]
    },
    {
     "name": "stdout",
     "output_type": "stream",
     "text": [
      "\r19000/60000"
     ]
    },
    {
     "name": "stdout",
     "output_type": "stream",
     "text": [
      "\r19200/60000"
     ]
    },
    {
     "name": "stdout",
     "output_type": "stream",
     "text": [
      "\r19400/60000"
     ]
    },
    {
     "name": "stdout",
     "output_type": "stream",
     "text": [
      "\r19600/60000"
     ]
    },
    {
     "name": "stdout",
     "output_type": "stream",
     "text": [
      "\r19800/60000"
     ]
    },
    {
     "name": "stdout",
     "output_type": "stream",
     "text": [
      "\r20000/60000"
     ]
    },
    {
     "name": "stdout",
     "output_type": "stream",
     "text": [
      "\r20200/60000"
     ]
    },
    {
     "name": "stdout",
     "output_type": "stream",
     "text": [
      "\r20400/60000"
     ]
    },
    {
     "name": "stdout",
     "output_type": "stream",
     "text": [
      "\r20600/60000"
     ]
    },
    {
     "name": "stdout",
     "output_type": "stream",
     "text": [
      "\r20800/60000"
     ]
    },
    {
     "name": "stdout",
     "output_type": "stream",
     "text": [
      "\r21000/60000"
     ]
    },
    {
     "name": "stdout",
     "output_type": "stream",
     "text": [
      "\r21200/60000"
     ]
    },
    {
     "name": "stdout",
     "output_type": "stream",
     "text": [
      "\r21400/60000"
     ]
    },
    {
     "name": "stdout",
     "output_type": "stream",
     "text": [
      "\r21600/60000"
     ]
    },
    {
     "name": "stdout",
     "output_type": "stream",
     "text": [
      "\r21800/60000"
     ]
    },
    {
     "name": "stdout",
     "output_type": "stream",
     "text": [
      "\r22000/60000"
     ]
    },
    {
     "name": "stdout",
     "output_type": "stream",
     "text": [
      "\r22200/60000"
     ]
    },
    {
     "name": "stdout",
     "output_type": "stream",
     "text": [
      "\r22400/60000"
     ]
    },
    {
     "name": "stdout",
     "output_type": "stream",
     "text": [
      "\r22600/60000"
     ]
    },
    {
     "name": "stdout",
     "output_type": "stream",
     "text": [
      "\r22800/60000"
     ]
    },
    {
     "name": "stdout",
     "output_type": "stream",
     "text": [
      "\r23000/60000"
     ]
    },
    {
     "name": "stdout",
     "output_type": "stream",
     "text": [
      "\r23200/60000"
     ]
    },
    {
     "name": "stdout",
     "output_type": "stream",
     "text": [
      "\r23400/60000"
     ]
    },
    {
     "name": "stdout",
     "output_type": "stream",
     "text": [
      "\r23600/60000"
     ]
    },
    {
     "name": "stdout",
     "output_type": "stream",
     "text": [
      "\r23800/60000"
     ]
    },
    {
     "name": "stdout",
     "output_type": "stream",
     "text": [
      "\r24000/60000"
     ]
    },
    {
     "name": "stdout",
     "output_type": "stream",
     "text": [
      "\r24200/60000"
     ]
    },
    {
     "name": "stdout",
     "output_type": "stream",
     "text": [
      "\r24400/60000"
     ]
    },
    {
     "name": "stdout",
     "output_type": "stream",
     "text": [
      "\r24600/60000"
     ]
    },
    {
     "name": "stdout",
     "output_type": "stream",
     "text": [
      "\r24800/60000"
     ]
    },
    {
     "name": "stdout",
     "output_type": "stream",
     "text": [
      "\r25000/60000"
     ]
    },
    {
     "name": "stdout",
     "output_type": "stream",
     "text": [
      "\r25200/60000"
     ]
    },
    {
     "name": "stdout",
     "output_type": "stream",
     "text": [
      "\r25400/60000"
     ]
    },
    {
     "name": "stdout",
     "output_type": "stream",
     "text": [
      "\r25600/60000"
     ]
    },
    {
     "name": "stdout",
     "output_type": "stream",
     "text": [
      "\r25800/60000"
     ]
    },
    {
     "name": "stdout",
     "output_type": "stream",
     "text": [
      "\r26000/60000"
     ]
    },
    {
     "name": "stdout",
     "output_type": "stream",
     "text": [
      "\r26200/60000"
     ]
    },
    {
     "name": "stdout",
     "output_type": "stream",
     "text": [
      "\r26400/60000"
     ]
    },
    {
     "name": "stdout",
     "output_type": "stream",
     "text": [
      "\r26600/60000"
     ]
    },
    {
     "name": "stdout",
     "output_type": "stream",
     "text": [
      "\r26800/60000"
     ]
    },
    {
     "name": "stdout",
     "output_type": "stream",
     "text": [
      "\r27000/60000"
     ]
    },
    {
     "name": "stdout",
     "output_type": "stream",
     "text": [
      "\r27200/60000"
     ]
    },
    {
     "name": "stdout",
     "output_type": "stream",
     "text": [
      "\r27400/60000"
     ]
    },
    {
     "name": "stdout",
     "output_type": "stream",
     "text": [
      "\r27600/60000"
     ]
    },
    {
     "name": "stdout",
     "output_type": "stream",
     "text": [
      "\r27800/60000"
     ]
    },
    {
     "name": "stdout",
     "output_type": "stream",
     "text": [
      "\r28000/60000"
     ]
    },
    {
     "name": "stdout",
     "output_type": "stream",
     "text": [
      "\r28200/60000"
     ]
    },
    {
     "name": "stdout",
     "output_type": "stream",
     "text": [
      "\r28400/60000"
     ]
    },
    {
     "name": "stdout",
     "output_type": "stream",
     "text": [
      "\r28600/60000"
     ]
    },
    {
     "name": "stdout",
     "output_type": "stream",
     "text": [
      "\r28800/60000"
     ]
    },
    {
     "name": "stdout",
     "output_type": "stream",
     "text": [
      "\r29000/60000"
     ]
    },
    {
     "name": "stdout",
     "output_type": "stream",
     "text": [
      "\r29200/60000"
     ]
    },
    {
     "name": "stdout",
     "output_type": "stream",
     "text": [
      "\r29400/60000"
     ]
    },
    {
     "name": "stdout",
     "output_type": "stream",
     "text": [
      "\r29600/60000"
     ]
    },
    {
     "name": "stdout",
     "output_type": "stream",
     "text": [
      "\r29800/60000"
     ]
    },
    {
     "name": "stdout",
     "output_type": "stream",
     "text": [
      "\r30000/60000"
     ]
    },
    {
     "name": "stdout",
     "output_type": "stream",
     "text": [
      "\r30200/60000"
     ]
    },
    {
     "name": "stdout",
     "output_type": "stream",
     "text": [
      "\r30400/60000"
     ]
    },
    {
     "name": "stdout",
     "output_type": "stream",
     "text": [
      "\r30600/60000"
     ]
    },
    {
     "name": "stdout",
     "output_type": "stream",
     "text": [
      "\r30800/60000"
     ]
    },
    {
     "name": "stdout",
     "output_type": "stream",
     "text": [
      "\r31000/60000"
     ]
    },
    {
     "name": "stdout",
     "output_type": "stream",
     "text": [
      "\r31200/60000"
     ]
    },
    {
     "name": "stdout",
     "output_type": "stream",
     "text": [
      "\r31400/60000"
     ]
    },
    {
     "name": "stdout",
     "output_type": "stream",
     "text": [
      "\r31600/60000"
     ]
    },
    {
     "name": "stdout",
     "output_type": "stream",
     "text": [
      "\r31800/60000"
     ]
    },
    {
     "name": "stdout",
     "output_type": "stream",
     "text": [
      "\r32000/60000"
     ]
    },
    {
     "name": "stdout",
     "output_type": "stream",
     "text": [
      "\r32200/60000"
     ]
    },
    {
     "name": "stdout",
     "output_type": "stream",
     "text": [
      "\r32400/60000"
     ]
    },
    {
     "name": "stdout",
     "output_type": "stream",
     "text": [
      "\r32600/60000"
     ]
    },
    {
     "name": "stdout",
     "output_type": "stream",
     "text": [
      "\r32800/60000"
     ]
    },
    {
     "name": "stdout",
     "output_type": "stream",
     "text": [
      "\r33000/60000"
     ]
    },
    {
     "name": "stdout",
     "output_type": "stream",
     "text": [
      "\r33200/60000"
     ]
    },
    {
     "name": "stdout",
     "output_type": "stream",
     "text": [
      "\r33400/60000"
     ]
    },
    {
     "name": "stdout",
     "output_type": "stream",
     "text": [
      "\r33600/60000"
     ]
    },
    {
     "name": "stdout",
     "output_type": "stream",
     "text": [
      "\r33800/60000"
     ]
    },
    {
     "name": "stdout",
     "output_type": "stream",
     "text": [
      "\r34000/60000"
     ]
    },
    {
     "name": "stdout",
     "output_type": "stream",
     "text": [
      "\r34200/60000"
     ]
    },
    {
     "name": "stdout",
     "output_type": "stream",
     "text": [
      "\r34400/60000"
     ]
    },
    {
     "name": "stdout",
     "output_type": "stream",
     "text": [
      "\r34600/60000"
     ]
    },
    {
     "name": "stdout",
     "output_type": "stream",
     "text": [
      "\r34800/60000"
     ]
    },
    {
     "name": "stdout",
     "output_type": "stream",
     "text": [
      "\r35000/60000"
     ]
    },
    {
     "name": "stdout",
     "output_type": "stream",
     "text": [
      "\r35200/60000"
     ]
    },
    {
     "name": "stdout",
     "output_type": "stream",
     "text": [
      "\r35400/60000"
     ]
    },
    {
     "name": "stdout",
     "output_type": "stream",
     "text": [
      "\r35600/60000"
     ]
    },
    {
     "name": "stdout",
     "output_type": "stream",
     "text": [
      "\r35800/60000"
     ]
    },
    {
     "name": "stdout",
     "output_type": "stream",
     "text": [
      "\r36000/60000"
     ]
    },
    {
     "name": "stdout",
     "output_type": "stream",
     "text": [
      "\r36200/60000"
     ]
    },
    {
     "name": "stdout",
     "output_type": "stream",
     "text": [
      "\r36400/60000"
     ]
    },
    {
     "name": "stdout",
     "output_type": "stream",
     "text": [
      "\r36600/60000"
     ]
    },
    {
     "name": "stdout",
     "output_type": "stream",
     "text": [
      "\r36800/60000"
     ]
    },
    {
     "name": "stdout",
     "output_type": "stream",
     "text": [
      "\r37000/60000"
     ]
    },
    {
     "name": "stdout",
     "output_type": "stream",
     "text": [
      "\r37200/60000"
     ]
    },
    {
     "name": "stdout",
     "output_type": "stream",
     "text": [
      "\r37400/60000"
     ]
    },
    {
     "name": "stdout",
     "output_type": "stream",
     "text": [
      "\r37600/60000"
     ]
    },
    {
     "name": "stdout",
     "output_type": "stream",
     "text": [
      "\r37800/60000"
     ]
    },
    {
     "name": "stdout",
     "output_type": "stream",
     "text": [
      "\r38000/60000"
     ]
    },
    {
     "name": "stdout",
     "output_type": "stream",
     "text": [
      "\r38200/60000"
     ]
    },
    {
     "name": "stdout",
     "output_type": "stream",
     "text": [
      "\r38400/60000"
     ]
    },
    {
     "name": "stdout",
     "output_type": "stream",
     "text": [
      "\r38600/60000"
     ]
    },
    {
     "name": "stdout",
     "output_type": "stream",
     "text": [
      "\r38800/60000"
     ]
    },
    {
     "name": "stdout",
     "output_type": "stream",
     "text": [
      "\r39000/60000"
     ]
    },
    {
     "name": "stdout",
     "output_type": "stream",
     "text": [
      "\r39200/60000"
     ]
    },
    {
     "name": "stdout",
     "output_type": "stream",
     "text": [
      "\r39400/60000"
     ]
    },
    {
     "name": "stdout",
     "output_type": "stream",
     "text": [
      "\r39600/60000"
     ]
    },
    {
     "name": "stdout",
     "output_type": "stream",
     "text": [
      "\r39800/60000"
     ]
    },
    {
     "name": "stdout",
     "output_type": "stream",
     "text": [
      "\r40000/60000"
     ]
    },
    {
     "name": "stdout",
     "output_type": "stream",
     "text": [
      "\r40200/60000"
     ]
    },
    {
     "name": "stdout",
     "output_type": "stream",
     "text": [
      "\r40400/60000"
     ]
    },
    {
     "name": "stdout",
     "output_type": "stream",
     "text": [
      "\r40600/60000"
     ]
    },
    {
     "name": "stdout",
     "output_type": "stream",
     "text": [
      "\r40800/60000"
     ]
    },
    {
     "name": "stdout",
     "output_type": "stream",
     "text": [
      "\r41000/60000"
     ]
    },
    {
     "name": "stdout",
     "output_type": "stream",
     "text": [
      "\r41200/60000"
     ]
    },
    {
     "name": "stdout",
     "output_type": "stream",
     "text": [
      "\r41400/60000"
     ]
    },
    {
     "name": "stdout",
     "output_type": "stream",
     "text": [
      "\r41600/60000"
     ]
    },
    {
     "name": "stdout",
     "output_type": "stream",
     "text": [
      "\r41800/60000"
     ]
    },
    {
     "name": "stdout",
     "output_type": "stream",
     "text": [
      "\r42000/60000"
     ]
    },
    {
     "name": "stdout",
     "output_type": "stream",
     "text": [
      "\r42200/60000"
     ]
    },
    {
     "name": "stdout",
     "output_type": "stream",
     "text": [
      "\r42400/60000"
     ]
    },
    {
     "name": "stdout",
     "output_type": "stream",
     "text": [
      "\r42600/60000"
     ]
    },
    {
     "name": "stdout",
     "output_type": "stream",
     "text": [
      "\r42800/60000"
     ]
    },
    {
     "name": "stdout",
     "output_type": "stream",
     "text": [
      "\r43000/60000"
     ]
    },
    {
     "name": "stdout",
     "output_type": "stream",
     "text": [
      "\r43200/60000"
     ]
    },
    {
     "name": "stdout",
     "output_type": "stream",
     "text": [
      "\r43400/60000"
     ]
    },
    {
     "name": "stdout",
     "output_type": "stream",
     "text": [
      "\r43600/60000"
     ]
    },
    {
     "name": "stdout",
     "output_type": "stream",
     "text": [
      "\r43800/60000"
     ]
    },
    {
     "name": "stdout",
     "output_type": "stream",
     "text": [
      "\r44000/60000"
     ]
    },
    {
     "name": "stdout",
     "output_type": "stream",
     "text": [
      "\r44200/60000"
     ]
    },
    {
     "name": "stdout",
     "output_type": "stream",
     "text": [
      "\r44400/60000"
     ]
    },
    {
     "name": "stdout",
     "output_type": "stream",
     "text": [
      "\r44600/60000"
     ]
    },
    {
     "name": "stdout",
     "output_type": "stream",
     "text": [
      "\r44800/60000"
     ]
    },
    {
     "name": "stdout",
     "output_type": "stream",
     "text": [
      "\r45000/60000"
     ]
    },
    {
     "name": "stdout",
     "output_type": "stream",
     "text": [
      "\r45200/60000"
     ]
    },
    {
     "name": "stdout",
     "output_type": "stream",
     "text": [
      "\r45400/60000"
     ]
    },
    {
     "name": "stdout",
     "output_type": "stream",
     "text": [
      "\r45600/60000"
     ]
    },
    {
     "name": "stdout",
     "output_type": "stream",
     "text": [
      "\r45800/60000"
     ]
    },
    {
     "name": "stdout",
     "output_type": "stream",
     "text": [
      "\r46000/60000"
     ]
    },
    {
     "name": "stdout",
     "output_type": "stream",
     "text": [
      "\r46200/60000"
     ]
    },
    {
     "name": "stdout",
     "output_type": "stream",
     "text": [
      "\r46400/60000"
     ]
    },
    {
     "name": "stdout",
     "output_type": "stream",
     "text": [
      "\r46600/60000"
     ]
    },
    {
     "name": "stdout",
     "output_type": "stream",
     "text": [
      "\r46800/60000"
     ]
    },
    {
     "name": "stdout",
     "output_type": "stream",
     "text": [
      "\r47000/60000"
     ]
    },
    {
     "name": "stdout",
     "output_type": "stream",
     "text": [
      "\r47200/60000"
     ]
    },
    {
     "name": "stdout",
     "output_type": "stream",
     "text": [
      "\r47400/60000"
     ]
    },
    {
     "name": "stdout",
     "output_type": "stream",
     "text": [
      "\r47600/60000"
     ]
    },
    {
     "name": "stdout",
     "output_type": "stream",
     "text": [
      "\r47800/60000"
     ]
    },
    {
     "name": "stdout",
     "output_type": "stream",
     "text": [
      "\r48000/60000"
     ]
    },
    {
     "name": "stdout",
     "output_type": "stream",
     "text": [
      "\r48200/60000"
     ]
    },
    {
     "name": "stdout",
     "output_type": "stream",
     "text": [
      "\r48400/60000"
     ]
    },
    {
     "name": "stdout",
     "output_type": "stream",
     "text": [
      "\r48600/60000"
     ]
    },
    {
     "name": "stdout",
     "output_type": "stream",
     "text": [
      "\r48800/60000"
     ]
    },
    {
     "name": "stdout",
     "output_type": "stream",
     "text": [
      "\r49000/60000"
     ]
    },
    {
     "name": "stdout",
     "output_type": "stream",
     "text": [
      "\r49200/60000"
     ]
    },
    {
     "name": "stdout",
     "output_type": "stream",
     "text": [
      "\r49400/60000"
     ]
    },
    {
     "name": "stdout",
     "output_type": "stream",
     "text": [
      "\r49600/60000"
     ]
    },
    {
     "name": "stdout",
     "output_type": "stream",
     "text": [
      "\r49800/60000"
     ]
    },
    {
     "name": "stdout",
     "output_type": "stream",
     "text": [
      "\r50000/60000"
     ]
    },
    {
     "name": "stdout",
     "output_type": "stream",
     "text": [
      "\r50200/60000"
     ]
    },
    {
     "name": "stdout",
     "output_type": "stream",
     "text": [
      "\r50400/60000"
     ]
    },
    {
     "name": "stdout",
     "output_type": "stream",
     "text": [
      "\r50600/60000"
     ]
    },
    {
     "name": "stdout",
     "output_type": "stream",
     "text": [
      "\r50800/60000"
     ]
    },
    {
     "name": "stdout",
     "output_type": "stream",
     "text": [
      "\r51000/60000"
     ]
    },
    {
     "name": "stdout",
     "output_type": "stream",
     "text": [
      "\r51200/60000"
     ]
    },
    {
     "name": "stdout",
     "output_type": "stream",
     "text": [
      "\r51400/60000"
     ]
    },
    {
     "name": "stdout",
     "output_type": "stream",
     "text": [
      "\r51600/60000"
     ]
    },
    {
     "name": "stdout",
     "output_type": "stream",
     "text": [
      "\r51800/60000"
     ]
    },
    {
     "name": "stdout",
     "output_type": "stream",
     "text": [
      "\r52000/60000"
     ]
    },
    {
     "name": "stdout",
     "output_type": "stream",
     "text": [
      "\r52200/60000"
     ]
    },
    {
     "name": "stdout",
     "output_type": "stream",
     "text": [
      "\r52400/60000"
     ]
    },
    {
     "name": "stdout",
     "output_type": "stream",
     "text": [
      "\r52600/60000"
     ]
    },
    {
     "name": "stdout",
     "output_type": "stream",
     "text": [
      "\r52800/60000"
     ]
    },
    {
     "name": "stdout",
     "output_type": "stream",
     "text": [
      "\r53000/60000"
     ]
    },
    {
     "name": "stdout",
     "output_type": "stream",
     "text": [
      "\r53200/60000"
     ]
    },
    {
     "name": "stdout",
     "output_type": "stream",
     "text": [
      "\r53400/60000"
     ]
    },
    {
     "name": "stdout",
     "output_type": "stream",
     "text": [
      "\r53600/60000"
     ]
    },
    {
     "name": "stdout",
     "output_type": "stream",
     "text": [
      "\r53800/60000"
     ]
    },
    {
     "name": "stdout",
     "output_type": "stream",
     "text": [
      "\r54000/60000"
     ]
    },
    {
     "name": "stdout",
     "output_type": "stream",
     "text": [
      "\r54200/60000"
     ]
    },
    {
     "name": "stdout",
     "output_type": "stream",
     "text": [
      "\r54400/60000"
     ]
    },
    {
     "name": "stdout",
     "output_type": "stream",
     "text": [
      "\r54600/60000"
     ]
    },
    {
     "name": "stdout",
     "output_type": "stream",
     "text": [
      "\r54800/60000"
     ]
    },
    {
     "name": "stdout",
     "output_type": "stream",
     "text": [
      "\r55000/60000"
     ]
    },
    {
     "name": "stdout",
     "output_type": "stream",
     "text": [
      "\r55200/60000"
     ]
    },
    {
     "name": "stdout",
     "output_type": "stream",
     "text": [
      "\r55400/60000"
     ]
    },
    {
     "name": "stdout",
     "output_type": "stream",
     "text": [
      "\r55600/60000"
     ]
    },
    {
     "name": "stdout",
     "output_type": "stream",
     "text": [
      "\r55800/60000"
     ]
    },
    {
     "name": "stdout",
     "output_type": "stream",
     "text": [
      "\r56000/60000"
     ]
    },
    {
     "name": "stdout",
     "output_type": "stream",
     "text": [
      "\r56200/60000"
     ]
    },
    {
     "name": "stdout",
     "output_type": "stream",
     "text": [
      "\r56400/60000"
     ]
    },
    {
     "name": "stdout",
     "output_type": "stream",
     "text": [
      "\r56600/60000"
     ]
    },
    {
     "name": "stdout",
     "output_type": "stream",
     "text": [
      "\r56800/60000"
     ]
    },
    {
     "name": "stdout",
     "output_type": "stream",
     "text": [
      "\r57000/60000"
     ]
    },
    {
     "name": "stdout",
     "output_type": "stream",
     "text": [
      "\r57200/60000"
     ]
    },
    {
     "name": "stdout",
     "output_type": "stream",
     "text": [
      "\r57400/60000"
     ]
    },
    {
     "name": "stdout",
     "output_type": "stream",
     "text": [
      "\r57600/60000"
     ]
    },
    {
     "name": "stdout",
     "output_type": "stream",
     "text": [
      "\r57800/60000"
     ]
    },
    {
     "name": "stdout",
     "output_type": "stream",
     "text": [
      "\r58000/60000"
     ]
    },
    {
     "name": "stdout",
     "output_type": "stream",
     "text": [
      "\r58200/60000"
     ]
    },
    {
     "name": "stdout",
     "output_type": "stream",
     "text": [
      "\r58400/60000"
     ]
    },
    {
     "name": "stdout",
     "output_type": "stream",
     "text": [
      "\r58600/60000"
     ]
    },
    {
     "name": "stdout",
     "output_type": "stream",
     "text": [
      "\r58800/60000"
     ]
    },
    {
     "name": "stdout",
     "output_type": "stream",
     "text": [
      "\r59000/60000"
     ]
    },
    {
     "name": "stdout",
     "output_type": "stream",
     "text": [
      "\r59200/60000"
     ]
    },
    {
     "name": "stdout",
     "output_type": "stream",
     "text": [
      "\r59400/60000"
     ]
    },
    {
     "name": "stdout",
     "output_type": "stream",
     "text": [
      "\r59600/60000"
     ]
    },
    {
     "name": "stdout",
     "output_type": "stream",
     "text": [
      "\r59800/60000"
     ]
    },
    {
     "name": "stdout",
     "output_type": "stream",
     "text": [
      "\r60000/60000"
     ]
    },
    {
     "name": "stdout",
     "output_type": "stream",
     "text": [
      "  train_acc = 0.8238999999999996  train_loss = 3.1061290184747956  test_acc = 0.8985  test_loss = 17528.166635873193\n"
     ]
    },
    {
     "name": "stdout",
     "output_type": "stream",
     "text": [
      "\r200/60000"
     ]
    },
    {
     "name": "stdout",
     "output_type": "stream",
     "text": [
      "\r400/60000"
     ]
    },
    {
     "name": "stdout",
     "output_type": "stream",
     "text": [
      "\r600/60000"
     ]
    },
    {
     "name": "stdout",
     "output_type": "stream",
     "text": [
      "\r800/60000"
     ]
    },
    {
     "name": "stdout",
     "output_type": "stream",
     "text": [
      "\r1000/60000"
     ]
    },
    {
     "name": "stdout",
     "output_type": "stream",
     "text": [
      "\r1200/60000"
     ]
    },
    {
     "name": "stdout",
     "output_type": "stream",
     "text": [
      "\r1400/60000"
     ]
    },
    {
     "name": "stdout",
     "output_type": "stream",
     "text": [
      "\r1600/60000"
     ]
    },
    {
     "name": "stdout",
     "output_type": "stream",
     "text": [
      "\r1800/60000"
     ]
    },
    {
     "name": "stdout",
     "output_type": "stream",
     "text": [
      "\r2000/60000"
     ]
    },
    {
     "name": "stdout",
     "output_type": "stream",
     "text": [
      "\r2200/60000"
     ]
    },
    {
     "name": "stdout",
     "output_type": "stream",
     "text": [
      "\r2400/60000"
     ]
    },
    {
     "name": "stdout",
     "output_type": "stream",
     "text": [
      "\r2600/60000"
     ]
    },
    {
     "name": "stdout",
     "output_type": "stream",
     "text": [
      "\r2800/60000"
     ]
    },
    {
     "name": "stdout",
     "output_type": "stream",
     "text": [
      "\r3000/60000"
     ]
    },
    {
     "name": "stdout",
     "output_type": "stream",
     "text": [
      "\r3200/60000"
     ]
    },
    {
     "name": "stdout",
     "output_type": "stream",
     "text": [
      "\r3400/60000"
     ]
    },
    {
     "name": "stdout",
     "output_type": "stream",
     "text": [
      "\r3600/60000"
     ]
    },
    {
     "name": "stdout",
     "output_type": "stream",
     "text": [
      "\r3800/60000"
     ]
    },
    {
     "name": "stdout",
     "output_type": "stream",
     "text": [
      "\r4000/60000"
     ]
    },
    {
     "name": "stdout",
     "output_type": "stream",
     "text": [
      "\r4200/60000"
     ]
    },
    {
     "name": "stdout",
     "output_type": "stream",
     "text": [
      "\r4400/60000"
     ]
    },
    {
     "name": "stdout",
     "output_type": "stream",
     "text": [
      "\r4600/60000"
     ]
    },
    {
     "name": "stdout",
     "output_type": "stream",
     "text": [
      "\r4800/60000"
     ]
    },
    {
     "name": "stdout",
     "output_type": "stream",
     "text": [
      "\r5000/60000"
     ]
    },
    {
     "name": "stdout",
     "output_type": "stream",
     "text": [
      "\r5200/60000"
     ]
    },
    {
     "name": "stdout",
     "output_type": "stream",
     "text": [
      "\r5400/60000"
     ]
    },
    {
     "name": "stdout",
     "output_type": "stream",
     "text": [
      "\r5600/60000"
     ]
    },
    {
     "name": "stdout",
     "output_type": "stream",
     "text": [
      "\r5800/60000"
     ]
    },
    {
     "name": "stdout",
     "output_type": "stream",
     "text": [
      "\r6000/60000"
     ]
    },
    {
     "name": "stdout",
     "output_type": "stream",
     "text": [
      "\r6200/60000"
     ]
    },
    {
     "name": "stdout",
     "output_type": "stream",
     "text": [
      "\r6400/60000"
     ]
    },
    {
     "name": "stdout",
     "output_type": "stream",
     "text": [
      "\r6600/60000"
     ]
    },
    {
     "name": "stdout",
     "output_type": "stream",
     "text": [
      "\r6800/60000"
     ]
    },
    {
     "name": "stdout",
     "output_type": "stream",
     "text": [
      "\r7000/60000"
     ]
    },
    {
     "name": "stdout",
     "output_type": "stream",
     "text": [
      "\r7200/60000"
     ]
    },
    {
     "name": "stdout",
     "output_type": "stream",
     "text": [
      "\r7400/60000"
     ]
    },
    {
     "name": "stdout",
     "output_type": "stream",
     "text": [
      "\r7600/60000"
     ]
    },
    {
     "name": "stdout",
     "output_type": "stream",
     "text": [
      "\r7800/60000"
     ]
    },
    {
     "name": "stdout",
     "output_type": "stream",
     "text": [
      "\r8000/60000"
     ]
    },
    {
     "name": "stdout",
     "output_type": "stream",
     "text": [
      "\r8200/60000"
     ]
    },
    {
     "name": "stdout",
     "output_type": "stream",
     "text": [
      "\r8400/60000"
     ]
    },
    {
     "name": "stdout",
     "output_type": "stream",
     "text": [
      "\r8600/60000"
     ]
    },
    {
     "name": "stdout",
     "output_type": "stream",
     "text": [
      "\r8800/60000"
     ]
    },
    {
     "name": "stdout",
     "output_type": "stream",
     "text": [
      "\r9000/60000"
     ]
    },
    {
     "name": "stdout",
     "output_type": "stream",
     "text": [
      "\r9200/60000"
     ]
    },
    {
     "name": "stdout",
     "output_type": "stream",
     "text": [
      "\r9400/60000"
     ]
    },
    {
     "name": "stdout",
     "output_type": "stream",
     "text": [
      "\r9600/60000"
     ]
    },
    {
     "name": "stdout",
     "output_type": "stream",
     "text": [
      "\r9800/60000"
     ]
    },
    {
     "name": "stdout",
     "output_type": "stream",
     "text": [
      "\r10000/60000"
     ]
    },
    {
     "name": "stdout",
     "output_type": "stream",
     "text": [
      "\r10200/60000"
     ]
    },
    {
     "name": "stdout",
     "output_type": "stream",
     "text": [
      "\r10400/60000"
     ]
    },
    {
     "name": "stdout",
     "output_type": "stream",
     "text": [
      "\r10600/60000"
     ]
    },
    {
     "name": "stdout",
     "output_type": "stream",
     "text": [
      "\r10800/60000"
     ]
    },
    {
     "name": "stdout",
     "output_type": "stream",
     "text": [
      "\r11000/60000"
     ]
    },
    {
     "name": "stdout",
     "output_type": "stream",
     "text": [
      "\r11200/60000"
     ]
    },
    {
     "name": "stdout",
     "output_type": "stream",
     "text": [
      "\r11400/60000"
     ]
    },
    {
     "name": "stdout",
     "output_type": "stream",
     "text": [
      "\r11600/60000"
     ]
    },
    {
     "name": "stdout",
     "output_type": "stream",
     "text": [
      "\r11800/60000"
     ]
    },
    {
     "name": "stdout",
     "output_type": "stream",
     "text": [
      "\r12000/60000"
     ]
    },
    {
     "name": "stdout",
     "output_type": "stream",
     "text": [
      "\r12200/60000"
     ]
    },
    {
     "name": "stdout",
     "output_type": "stream",
     "text": [
      "\r12400/60000"
     ]
    },
    {
     "name": "stdout",
     "output_type": "stream",
     "text": [
      "\r12600/60000"
     ]
    },
    {
     "name": "stdout",
     "output_type": "stream",
     "text": [
      "\r12800/60000"
     ]
    },
    {
     "name": "stdout",
     "output_type": "stream",
     "text": [
      "\r13000/60000"
     ]
    },
    {
     "name": "stdout",
     "output_type": "stream",
     "text": [
      "\r13200/60000"
     ]
    },
    {
     "name": "stdout",
     "output_type": "stream",
     "text": [
      "\r13400/60000"
     ]
    },
    {
     "ename": "KeyboardInterrupt",
     "evalue": "",
     "traceback": [
      "\u001b[0;31m---------------------------------------------------------------------------\u001b[0m",
      "\u001b[0;31mKeyboardInterrupt\u001b[0m                         Traceback (most recent call last)",
      "\u001b[0;32m<ipython-input-269-2cf43e2c122f>\u001b[0m in \u001b[0;36m<module>\u001b[0;34m()\u001b[0m\n\u001b[1;32m     62\u001b[0m         \u001b[0mDE3\u001b[0m \u001b[0;34m=\u001b[0m \u001b[0mmyCalcDE\u001b[0m\u001b[0;34m(\u001b[0m\u001b[0md3\u001b[0m\u001b[0;34m,\u001b[0m \u001b[0mx3list\u001b[0m\u001b[0;34m)\u001b[0m\u001b[0;34m\u001b[0m\u001b[0m\n\u001b[1;32m     63\u001b[0m         \u001b[0mDE2\u001b[0m \u001b[0;34m=\u001b[0m \u001b[0mmyCalcDE\u001b[0m\u001b[0;34m(\u001b[0m\u001b[0md2\u001b[0m\u001b[0;34m,\u001b[0m \u001b[0mx2list\u001b[0m\u001b[0;34m)\u001b[0m\u001b[0;34m\u001b[0m\u001b[0m\n\u001b[0;32m---> 64\u001b[0;31m         \u001b[0mDE1\u001b[0m \u001b[0;34m=\u001b[0m \u001b[0mmyCalcDE\u001b[0m\u001b[0;34m(\u001b[0m\u001b[0md1\u001b[0m\u001b[0;34m,\u001b[0m \u001b[0mX_batch\u001b[0m\u001b[0;34m)\u001b[0m\u001b[0;34m\u001b[0m\u001b[0m\n\u001b[0m\u001b[1;32m     65\u001b[0m \u001b[0;34m\u001b[0m\u001b[0m\n\u001b[1;32m     66\u001b[0m         \u001b[0mmyWeightUpdate_RMSProp\u001b[0m\u001b[0;34m(\u001b[0m\u001b[0mDE3\u001b[0m\u001b[0;34m,\u001b[0m \u001b[0;36m3\u001b[0m\u001b[0;34m)\u001b[0m\u001b[0;34m\u001b[0m\u001b[0m\n",
      "\u001b[0;32m<ipython-input-153-d8d2440a64ac>\u001b[0m in \u001b[0;36mmyCalcDE\u001b[0;34m(delta, x)\u001b[0m\n\u001b[1;32m      3\u001b[0m     \u001b[0;32mfor\u001b[0m \u001b[0mi\u001b[0m \u001b[0;32min\u001b[0m \u001b[0mrange\u001b[0m\u001b[0;34m(\u001b[0m\u001b[0mlen\u001b[0m\u001b[0;34m(\u001b[0m\u001b[0mdelta\u001b[0m\u001b[0;34m[\u001b[0m\u001b[0;36m0\u001b[0m\u001b[0;34m]\u001b[0m\u001b[0;34m)\u001b[0m\u001b[0;34m)\u001b[0m\u001b[0;34m:\u001b[0m\u001b[0;34m\u001b[0m\u001b[0m\n\u001b[1;32m      4\u001b[0m         \u001b[0mnw\u001b[0m \u001b[0;34m=\u001b[0m \u001b[0mnp\u001b[0m\u001b[0;34m.\u001b[0m\u001b[0marray\u001b[0m\u001b[0;34m(\u001b[0m\u001b[0;34m[\u001b[0m\u001b[0mnp\u001b[0m\u001b[0;34m.\u001b[0m\u001b[0mdot\u001b[0m\u001b[0;34m(\u001b[0m\u001b[0mdelta\u001b[0m\u001b[0;34m[\u001b[0m\u001b[0;34m:\u001b[0m\u001b[0;34m,\u001b[0m\u001b[0mi\u001b[0m\u001b[0;34m]\u001b[0m\u001b[0;34m,\u001b[0m \u001b[0mx\u001b[0m\u001b[0;34m)\u001b[0m\u001b[0;34m]\u001b[0m\u001b[0;34m)\u001b[0m\u001b[0;34m\u001b[0m\u001b[0m\n\u001b[0;32m----> 5\u001b[0;31m         \u001b[0mDE\u001b[0m \u001b[0;34m=\u001b[0m \u001b[0mnp\u001b[0m\u001b[0;34m.\u001b[0m\u001b[0mappend\u001b[0m\u001b[0;34m(\u001b[0m\u001b[0mDE\u001b[0m\u001b[0;34m,\u001b[0m \u001b[0mnw\u001b[0m\u001b[0;34m,\u001b[0m \u001b[0maxis\u001b[0m\u001b[0;34m=\u001b[0m\u001b[0;36m0\u001b[0m\u001b[0;34m)\u001b[0m\u001b[0;34m\u001b[0m\u001b[0m\n\u001b[0m\u001b[1;32m      6\u001b[0m \u001b[0;34m\u001b[0m\u001b[0m\n\u001b[1;32m      7\u001b[0m     \u001b[0;32mreturn\u001b[0m \u001b[0mDE\u001b[0m\u001b[0;34m\u001b[0m\u001b[0m\n",
      "\u001b[0;32m/Users/shidaryoutarou/anaconda3/envs/env6/lib/python3.5/site-packages/numpy/lib/function_base.py\u001b[0m in \u001b[0;36mappend\u001b[0;34m(arr, values, axis)\u001b[0m\n\u001b[1;32m   5164\u001b[0m         \u001b[0mvalues\u001b[0m \u001b[0;34m=\u001b[0m \u001b[0mravel\u001b[0m\u001b[0;34m(\u001b[0m\u001b[0mvalues\u001b[0m\u001b[0;34m)\u001b[0m\u001b[0;34m\u001b[0m\u001b[0m\n\u001b[1;32m   5165\u001b[0m         \u001b[0maxis\u001b[0m \u001b[0;34m=\u001b[0m \u001b[0marr\u001b[0m\u001b[0;34m.\u001b[0m\u001b[0mndim\u001b[0m\u001b[0;34m-\u001b[0m\u001b[0;36m1\u001b[0m\u001b[0;34m\u001b[0m\u001b[0m\n\u001b[0;32m-> 5166\u001b[0;31m     \u001b[0;32mreturn\u001b[0m \u001b[0mconcatenate\u001b[0m\u001b[0;34m(\u001b[0m\u001b[0;34m(\u001b[0m\u001b[0marr\u001b[0m\u001b[0;34m,\u001b[0m \u001b[0mvalues\u001b[0m\u001b[0;34m)\u001b[0m\u001b[0;34m,\u001b[0m \u001b[0maxis\u001b[0m\u001b[0;34m=\u001b[0m\u001b[0maxis\u001b[0m\u001b[0;34m)\u001b[0m\u001b[0;34m\u001b[0m\u001b[0m\n\u001b[0m",
      "\u001b[0;31mKeyboardInterrupt\u001b[0m: "
     ],
     "output_type": "error"
    }
   ],
   "source": [
    "#main\n",
    "t_loss = []\n",
    "test_acc_list = []\n",
    "test_loss_list = []\n",
    "\n",
    "for ep in range(epoch):\n",
    "    train_acc = 0\n",
    "    train_E = 0\n",
    "    cnt = 0\n",
    "    \n",
    "    #training\n",
    "    for X_batch, Y_batch in myGetBatch(X_train, Y_train, batch_size):\n",
    "        est = []\n",
    "        z1list = []\n",
    "        x2list = []\n",
    "        z2list = []\n",
    "        x3list = []\n",
    "        z3list = []\n",
    "        domask1 = []\n",
    "        domask2 = []\n",
    "        \n",
    "        for x1 in X_batch:\n",
    "            #FC1\n",
    "            z1 = myFCLayer(512, x1, 0)\n",
    "            z1 = np.append(z1, 1)           #add bias\n",
    "            z1list.append(z1)\n",
    "            x2 = myActivation(z1, \"ReLU\")\n",
    "            \n",
    "            #DO1\n",
    "            dm1 = myDropOut(x2, 0.2)\n",
    "            domask1.append(dm1)\n",
    "            x2 *= dm1\n",
    "            x2list.append(x2)\n",
    "            \n",
    "            #FC2\n",
    "            z2 = myFCLayer(512, x2, 1)\n",
    "            z2 = np.append(z2, 1)           #add bias\n",
    "            z2list.append(z2)\n",
    "            x3 = myActivation(z2, \"ReLU\")\n",
    "            \n",
    "            #DO2\n",
    "            dm2 = myDropOut(x3, 0.2)\n",
    "            domask2.append(dm2)\n",
    "            x3 *= dm2\n",
    "            x3list.append(x3)\n",
    "            \n",
    "            #FC3\n",
    "            z3 = myFCLayer(10, x3, 2)\n",
    "            z3list.append(z3)\n",
    "            z3 = np.array(z3)\n",
    "            y = myActivation(z3, \"softmax\")\n",
    "            est.append(y)\n",
    "        \n",
    "        train_acc += myCalcAcc(est, Y_batch)            \n",
    "        train_E += myCrossEntropy(est, Y_batch)\n",
    "        \n",
    "        #back propagation\n",
    "        d3 = myCalcDeltaOut(est, Y_batch)\n",
    "        d2 = myCalcDelta(d3, 1, z2list)\n",
    "        d1 = myCalcDelta(d2, 2, z1list)\n",
    "        \n",
    "        DE3 = myCalcDE(d3, x3list)\n",
    "        DE2 = myCalcDE(d2, x2list)\n",
    "        DE1 = myCalcDE(d1, X_batch)\n",
    "        \n",
    "        myWeightUpdate_RMSProp(DE3, 3)\n",
    "        myWeightUpdate_RMSProp(DE2, 2)\n",
    "        myWeightUpdate_RMSProp(DE1, 1)\n",
    "        \n",
    "        cnt += len(X_batch)\n",
    "        sys.stdout.write(\"\\r%d/%d\" % (cnt, len(X_train)))\n",
    "        \n",
    "    train_acc = train_acc / (X_train.shape[0] / batch_size)\n",
    "    train_E = train_E / X_train.shape[0]\n",
    "    \n",
    "    \n",
    "    #testing\n",
    "    test_est = []\n",
    "    test_z1list = []\n",
    "    test_x2list = []\n",
    "    test_z2list = []\n",
    "    test_x3list = []\n",
    "    test_z3list = []\n",
    "    \n",
    "    for test_x1 in X_test:\n",
    "        test_z1 = myFCLayer(512, test_x1, 0)\n",
    "        test_z1 = np.append(test_z1, 1)           #add bias\n",
    "        test_z1list.append(test_z1)\n",
    "        test_x2 = myActivation(test_z1, \"ReLU\")\n",
    "        test_x2list.append(test_x2)\n",
    "        \n",
    "        test_z2 = myFCLayer(512, test_x2, 1)\n",
    "        test_z2 = np.append(test_z2, 1)           #add bias\n",
    "        test_z2list.append(test_z2)\n",
    "        test_x3 = myActivation(test_z2, \"ReLU\")\n",
    "        test_x3list.append(test_x3)\n",
    "        \n",
    "        test_z3 = myFCLayer(10, test_x3, 2)\n",
    "        test_z3list.append(test_z3)\n",
    "        test_z3 = np.array(test_z3)\n",
    "        test_y = myActivation(test_z3, \"softmax\")\n",
    "        test_est.append(test_y)\n",
    "        \n",
    "    test_acc = myCalcAcc(test_est, Y_test)\n",
    "    test_acc_list.append(test_acc)\n",
    "    test_E = myCrossEntropy(test_est, Y_test) / X_test.shape[0]\n",
    "    test_loss_list.append(test_E)\n",
    "        \n",
    "    print(\"  train_acc = \" + str(train_acc), end = \"\")\n",
    "    print(\"  train_loss = \" + str(train_E), end = \"\")\n",
    "    print(\"  test_acc = \" + str(test_acc), end = \"\")\n",
    "    print(\"  test_loss = \" + str(test_E))\n",
    "    \n",
    "plt.plot(range(epoch), test_acc_list)\n",
    "plt.show()"
   ]
  }
 ],
 "metadata": {
  "kernelspec": {
   "display_name": "Python 2",
   "language": "python",
   "name": "python2"
  },
  "language_info": {
   "codemirror_mode": {
    "name": "ipython",
    "version": 2
   },
   "file_extension": ".py",
   "mimetype": "text/x-python",
   "name": "python",
   "nbconvert_exporter": "python",
   "pygments_lexer": "ipython2",
   "version": "2.7.6"
  }
 },
 "nbformat": 4,
 "nbformat_minor": 0
}
